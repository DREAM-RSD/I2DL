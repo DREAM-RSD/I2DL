{
 "cells": [
  {
   "cell_type": "markdown",
   "metadata": {},
   "source": [
    "# 课程简介"
   ]
  },
  {
   "attachments": {},
   "cell_type": "markdown",
   "metadata": {},
   "source": [
    "## 课程简介\n",
    "![](outline.jpg)\n",
    "![](aim.jpg)\n",
    "\n",
    "## 参考资料\n",
    "\n",
    "**书**       \n",
    "\n",
    "* 周志华 著.机器学习,北京:清华大学出版社,2016.\n",
    "* Richard O. Duda, Peter E. Hart and David G. Stork, Pattern Classification (2nd Ed.), 1997. \n",
    "\n",
    "**交互式示例程序**\n",
    "\n",
    "* Neural Network Playground: http://playground.tensorflow.org/ \n",
    "* ConVetJS: https://cs.stanford.edu/people/karpathy/convnetjs/\n",
    "\n",
    "**在线课程**\n",
    "\n",
    "* Neural Network and Deep Learning: http://neuralnetworksanddeeplearning.com/ \n",
    "* 遥感图像模式识别: http://prors.readthedocs.io/\n",
    "\n",
    "## 答疑与联系方式\n",
    "\n",
    "**任课教师**\n",
    "\n",
    "唐  宏        tanghong@bnu.edu.cn\n",
    "\n",
    "**助教**\n",
    "\n",
    "纪 超         jichao@mail.bnu.edu.cn\n",
    "\n",
    "QQ交流群：193874698"
   ]
  }
 ],
 "metadata": {
  "hide_input": false,
  "kernelspec": {
   "display_name": "Python 3",
   "language": "python",
   "name": "python3"
  },
  "language_info": {
   "codemirror_mode": {
    "name": "ipython",
    "version": 3
   },
   "file_extension": ".py",
   "mimetype": "text/x-python",
   "name": "python",
   "nbconvert_exporter": "python",
   "pygments_lexer": "ipython3",
   "version": "3.6.5"
  },
  "varInspector": {
   "cols": {
    "lenName": 16,
    "lenType": 16,
    "lenVar": 40
   },
   "kernels_config": {
    "python": {
     "delete_cmd_postfix": "",
     "delete_cmd_prefix": "del ",
     "library": "var_list.py",
     "varRefreshCmd": "print(var_dic_list())"
    },
    "r": {
     "delete_cmd_postfix": ") ",
     "delete_cmd_prefix": "rm(",
     "library": "var_list.r",
     "varRefreshCmd": "cat(var_dic_list()) "
    }
   },
   "types_to_exclude": [
    "module",
    "function",
    "builtin_function_or_method",
    "instance",
    "_Feature"
   ],
   "window_display": false
  }
 },
 "nbformat": 4,
 "nbformat_minor": 2
}
